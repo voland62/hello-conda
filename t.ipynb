{
  "nbformat": 4,
  "nbformat_minor": 0,
  "metadata": {
    "language_info": {
      "codemirror_mode": {
        "name": "ipython",
        "version": 3
      },
      "file_extension": ".py",
      "mimetype": "text/x-python",
      "name": "python",
      "nbconvert_exporter": "python",
      "pygments_lexer": "ipython3",
      "version": "3.9.1"
    },
    "orig_nbformat": 2,
    "kernelspec": {
      "name": "python391jvsc74a57bd04041872acf8082a551d05713065128742dde56ed92510ba61f69e2907cf00a88",
      "display_name": "Python 3.9.1 64-bit ('base': conda)"
    },
    "metadata": {
      "interpreter": {
        "hash": "4041872acf8082a551d05713065128742dde56ed92510ba61f69e2907cf00a88"
      }
    },
    "colab": {
      "name": "t.ipynb",
      "provenance": [],
      "include_colab_link": true
    }
  },
  "cells": [
    {
      "cell_type": "markdown",
      "metadata": {
        "id": "view-in-github",
        "colab_type": "text"
      },
      "source": [
        "<a href=\"https://colab.research.google.com/github/voland62/hello-conda/blob/master/t.ipynb\" target=\"_parent\"><img src=\"https://colab.research.google.com/assets/colab-badge.svg\" alt=\"Open In Colab\"/></a>"
      ]
    },
    {
      "cell_type": "markdown",
      "metadata": {
        "id": "QhE4xZcsb9hi"
      },
      "source": [
        "## Это тестовый маркап"
      ]
    },
    {
      "cell_type": "code",
      "metadata": {
        "id": "e4uX2mOib9hy"
      },
      "source": [
        "a = 23\n",
        "b = 100\n",
        "c = b + a\n",
        "\n",
        "x = c\n",
        "\n",
        "print(c)"
      ],
      "execution_count": null,
      "outputs": []
    },
    {
      "cell_type": "code",
      "metadata": {
        "id": "XAfrspRdb9h0"
      },
      "source": [
        "blabla = 100"
      ],
      "execution_count": null,
      "outputs": []
    }
  ]
}