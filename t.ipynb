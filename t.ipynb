{
 "metadata": {
  "language_info": {
   "codemirror_mode": {
    "name": "ipython",
    "version": 3
   },
   "file_extension": ".py",
   "mimetype": "text/x-python",
   "name": "python",
   "nbconvert_exporter": "python",
   "pygments_lexer": "ipython3",
   "version": "3.9.1"
  },
  "orig_nbformat": 2,
  "kernelspec": {
   "name": "python391jvsc74a57bd04041872acf8082a551d05713065128742dde56ed92510ba61f69e2907cf00a88",
   "display_name": "Python 3.9.1 64-bit ('base': conda)"
  },
  "metadata": {
   "interpreter": {
    "hash": "4041872acf8082a551d05713065128742dde56ed92510ba61f69e2907cf00a88"
   }
  }
 },
 "nbformat": 4,
 "nbformat_minor": 2,
 "cells": [
  {
   "source": [
    "## Это тестовый маркап"
   ],
   "cell_type": "markdown",
   "metadata": {}
  },
  {
   "cell_type": "code",
   "execution_count": 6,
   "metadata": {},
   "outputs": [
    {
     "output_type": "stream",
     "name": "stdout",
     "text": [
      "123\n"
     ]
    }
   ],
   "source": [
    "a = 23\n",
    "b = 100\n",
    "c = b + a\n",
    "print(c)"
   ]
  },
  {
   "cell_type": "code",
   "execution_count": 5,
   "metadata": {},
   "outputs": [],
   "source": [
    "blabla = 100"
   ]
  }
 ]
}